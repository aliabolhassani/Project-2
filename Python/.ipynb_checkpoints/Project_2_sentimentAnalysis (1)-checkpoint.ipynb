{
 "cells": [
  {
   "cell_type": "markdown",
   "metadata": {
    "id": "ebCa7yn8u_Ci"
   },
   "source": [
    "# Import Libraries"
   ]
  },
  {
   "cell_type": "code",
   "execution_count": 1,
   "metadata": {
    "colab": {
     "base_uri": "https://localhost:8080/"
    },
    "id": "ljeB7I9h7GXb",
    "outputId": "8ace5290-e579-4bfa-8c9f-758ebb6f48cd"
   },
   "outputs": [],
   "source": [
    "# Import libraries\n",
    "import pandas as pd\n",
    "import numpy as np\n",
    "import nltk\n",
    "from nltk.sentiment.vader import SentimentIntensityAnalyzer\n",
    "import re\n",
    "\n",
    "\n",
    "%matplotlib inline"
   ]
  },
  {
   "cell_type": "code",
   "execution_count": 2,
   "metadata": {
    "colab": {
     "base_uri": "https://localhost:8080/"
    },
    "id": "LIkDcFSH8H4Z",
    "outputId": "dee4f449-b4f6-4c76-f502-3116bd7c6cc2"
   },
   "outputs": [
    {
     "name": "stderr",
     "output_type": "stream",
     "text": [
      "[nltk_data] Downloading package vader_lexicon to\n",
      "[nltk_data]     C:\\Users\\Lendl\\AppData\\Roaming\\nltk_data...\n",
      "[nltk_data]   Package vader_lexicon is already up-to-date!\n"
     ]
    }
   ],
   "source": [
    "# Download/Update the VADER Lexicon\n",
    "nltk.download('vader_lexicon')\n",
    "\n",
    "# Initialize the VADER sentiment analyzer\n",
    "analyzer = SentimentIntensityAnalyzer"
   ]
  },
  {
   "cell_type": "markdown",
   "metadata": {
    "id": "a4365HutvLwz"
   },
   "source": [
    "# Import CSV files"
   ]
  },
  {
   "cell_type": "code",
   "execution_count": 3,
   "metadata": {
    "colab": {
     "base_uri": "https://localhost:8080/",
     "height": 204
    },
    "id": "LDXjENEsscUo",
    "outputId": "5175744e-9635-4d39-cf0b-7fa205ff5f7f"
   },
   "outputs": [
    {
     "data": {
      "text/html": [
       "<div>\n",
       "<style scoped>\n",
       "    .dataframe tbody tr th:only-of-type {\n",
       "        vertical-align: middle;\n",
       "    }\n",
       "\n",
       "    .dataframe tbody tr th {\n",
       "        vertical-align: top;\n",
       "    }\n",
       "\n",
       "    .dataframe thead th {\n",
       "        text-align: right;\n",
       "    }\n",
       "</style>\n",
       "<table border=\"1\" class=\"dataframe\">\n",
       "  <thead>\n",
       "    <tr style=\"text-align: right;\">\n",
       "      <th></th>\n",
       "      <th>id</th>\n",
       "      <th>timestamp</th>\n",
       "      <th>Tweets</th>\n",
       "    </tr>\n",
       "  </thead>\n",
       "  <tbody>\n",
       "    <tr>\n",
       "      <th>0</th>\n",
       "      <td>1432832769269379000</td>\n",
       "      <td>2021-08-31 22:28:47</td>\n",
       "      <td>With the end of August already here\\t it’s nic...</td>\n",
       "    </tr>\n",
       "    <tr>\n",
       "      <th>1</th>\n",
       "      <td>1432809586763964400</td>\n",
       "      <td>2021-08-31 20:56:40</td>\n",
       "      <td>#BNB https://t.co/eCnAd8JEi8</td>\n",
       "    </tr>\n",
       "    <tr>\n",
       "      <th>2</th>\n",
       "      <td>1432790221838499800</td>\n",
       "      <td>2021-08-31 19:39:43</td>\n",
       "      <td>So #BTC is cool\\t but maybe you want something...</td>\n",
       "    </tr>\n",
       "    <tr>\n",
       "      <th>3</th>\n",
       "      <td>1432753822858989600</td>\n",
       "      <td>2021-08-31 17:15:05</td>\n",
       "      <td>Missed one of the #Binance Responsible Trading...</td>\n",
       "    </tr>\n",
       "    <tr>\n",
       "      <th>4</th>\n",
       "      <td>1432730654471557000</td>\n",
       "      <td>2021-08-31 15:43:01</td>\n",
       "      <td>$500 can be yours over on Featured by #Binance...</td>\n",
       "    </tr>\n",
       "  </tbody>\n",
       "</table>\n",
       "</div>"
      ],
      "text/plain": [
       "                    id           timestamp  \\\n",
       "0  1432832769269379000 2021-08-31 22:28:47   \n",
       "1  1432809586763964400 2021-08-31 20:56:40   \n",
       "2  1432790221838499800 2021-08-31 19:39:43   \n",
       "3  1432753822858989600 2021-08-31 17:15:05   \n",
       "4  1432730654471557000 2021-08-31 15:43:01   \n",
       "\n",
       "                                              Tweets  \n",
       "0  With the end of August already here\\t it’s nic...  \n",
       "1                       #BNB https://t.co/eCnAd8JEi8  \n",
       "2  So #BTC is cool\\t but maybe you want something...  \n",
       "3  Missed one of the #Binance Responsible Trading...  \n",
       "4  $500 can be yours over on Featured by #Binance...  "
      ]
     },
     "execution_count": 3,
     "metadata": {},
     "output_type": "execute_result"
    }
   ],
   "source": [
    "# Get Tweets data\n",
    "tweets = pd.read_csv('../Data/texts.csv', infer_datetime_format=True, parse_dates=True)\n",
    "\n",
    "# Convert timestamp to datetime\n",
    "tweets['timestamp'] = pd.to_datetime(tweets['timestamp'], unit='ms', infer_datetime_format=True)\n",
    "tweets = tweets.rename(columns={'text':'Tweets'})\n",
    "tweets.head()"
   ]
  },
  {
   "cell_type": "code",
   "execution_count": 4,
   "metadata": {
    "id": "TOJlvSE9ctbi"
   },
   "outputs": [],
   "source": [
    "btcusd = pd.read_csv('../Data/btcusd.csv')\n",
    "btcusd.head()\n",
    "\n",
    "# Convert 'Date' to datetime\n",
    "btcusd['Date'] = btcusd['Date'].astype('datetime64[ns]') \n",
    "\n",
    "# Drop columns and keep only 'Close'\n",
    "btcusd = btcusd.drop(['Open', 'High','Low','Adj Close','Volume'], axis=1)\n",
    "btcusd.set_index(\"Date\", inplace=True)"
   ]
  },
  {
   "cell_type": "markdown",
   "metadata": {
    "id": "Bm-FtPk9vW4_"
   },
   "source": [
    "# Data Preprocessing"
   ]
  },
  {
   "cell_type": "code",
   "execution_count": 5,
   "metadata": {
    "colab": {
     "base_uri": "https://localhost:8080/",
     "height": 419
    },
    "id": "vCvYq8zrzYY7",
    "outputId": "c2b61473-4727-4f33-8a4d-08a855f8633e"
   },
   "outputs": [
    {
     "data": {
      "text/html": [
       "<div>\n",
       "<style scoped>\n",
       "    .dataframe tbody tr th:only-of-type {\n",
       "        vertical-align: middle;\n",
       "    }\n",
       "\n",
       "    .dataframe tbody tr th {\n",
       "        vertical-align: top;\n",
       "    }\n",
       "\n",
       "    .dataframe thead th {\n",
       "        text-align: right;\n",
       "    }\n",
       "</style>\n",
       "<table border=\"1\" class=\"dataframe\">\n",
       "  <thead>\n",
       "    <tr style=\"text-align: right;\">\n",
       "      <th></th>\n",
       "      <th>id</th>\n",
       "      <th>timestamp</th>\n",
       "      <th>Tweets</th>\n",
       "    </tr>\n",
       "  </thead>\n",
       "  <tbody>\n",
       "    <tr>\n",
       "      <th>0</th>\n",
       "      <td>1432832769269379000</td>\n",
       "      <td>2021-08-31 22:28:47</td>\n",
       "      <td>With the end of August already here it’s nice ...</td>\n",
       "    </tr>\n",
       "    <tr>\n",
       "      <th>1</th>\n",
       "      <td>1432809586763964400</td>\n",
       "      <td>2021-08-31 20:56:40</td>\n",
       "      <td>BNB</td>\n",
       "    </tr>\n",
       "    <tr>\n",
       "      <th>2</th>\n",
       "      <td>1432790221838499800</td>\n",
       "      <td>2021-08-31 19:39:43</td>\n",
       "      <td>So BTC is cool but maybe you want something el...</td>\n",
       "    </tr>\n",
       "    <tr>\n",
       "      <th>3</th>\n",
       "      <td>1432753822858989600</td>\n",
       "      <td>2021-08-31 17:15:05</td>\n",
       "      <td>Missed one of the Binance Responsible Trading ...</td>\n",
       "    </tr>\n",
       "    <tr>\n",
       "      <th>4</th>\n",
       "      <td>1432730654471557000</td>\n",
       "      <td>2021-08-31 15:43:01</td>\n",
       "      <td>$500 can be yours over on Featured by Binance</td>\n",
       "    </tr>\n",
       "    <tr>\n",
       "      <th>...</th>\n",
       "      <td>...</td>\n",
       "      <td>...</td>\n",
       "      <td>...</td>\n",
       "    </tr>\n",
       "    <tr>\n",
       "      <th>532</th>\n",
       "      <td>1430518089746112500</td>\n",
       "      <td>2021-08-25 13:11:04</td>\n",
       "      <td>OnlyFans CEO Blames Banks for Scrapping Adult ...</td>\n",
       "    </tr>\n",
       "    <tr>\n",
       "      <th>533</th>\n",
       "      <td>1430398366823985200</td>\n",
       "      <td>2021-08-25 05:15:20</td>\n",
       "      <td>Tezos Strikes Three Key Partnerships Targeting...</td>\n",
       "    </tr>\n",
       "    <tr>\n",
       "      <th>534</th>\n",
       "      <td>1429414195578163200</td>\n",
       "      <td>2021-08-22 12:04:36</td>\n",
       "      <td>How Hackers and Cybercriminals launder Crypto ...</td>\n",
       "    </tr>\n",
       "    <tr>\n",
       "      <th>535</th>\n",
       "      <td>1428928505069326300</td>\n",
       "      <td>2021-08-21 03:54:38</td>\n",
       "      <td>US Mayor Wants to Give Every Resident $1000 in...</td>\n",
       "    </tr>\n",
       "    <tr>\n",
       "      <th>536</th>\n",
       "      <td>1428705789200507000</td>\n",
       "      <td>2021-08-20 13:09:38</td>\n",
       "      <td>Japanese Exchange Hacked - $97 Million Stolen:...</td>\n",
       "    </tr>\n",
       "  </tbody>\n",
       "</table>\n",
       "<p>537 rows × 3 columns</p>\n",
       "</div>"
      ],
      "text/plain": [
       "                      id           timestamp  \\\n",
       "0    1432832769269379000 2021-08-31 22:28:47   \n",
       "1    1432809586763964400 2021-08-31 20:56:40   \n",
       "2    1432790221838499800 2021-08-31 19:39:43   \n",
       "3    1432753822858989600 2021-08-31 17:15:05   \n",
       "4    1432730654471557000 2021-08-31 15:43:01   \n",
       "..                   ...                 ...   \n",
       "532  1430518089746112500 2021-08-25 13:11:04   \n",
       "533  1430398366823985200 2021-08-25 05:15:20   \n",
       "534  1429414195578163200 2021-08-22 12:04:36   \n",
       "535  1428928505069326300 2021-08-21 03:54:38   \n",
       "536  1428705789200507000 2021-08-20 13:09:38   \n",
       "\n",
       "                                                Tweets  \n",
       "0    With the end of August already here it’s nice ...  \n",
       "1                                                 BNB   \n",
       "2    So BTC is cool but maybe you want something el...  \n",
       "3    Missed one of the Binance Responsible Trading ...  \n",
       "4       $500 can be yours over on Featured by Binance   \n",
       "..                                                 ...  \n",
       "532  OnlyFans CEO Blames Banks for Scrapping Adult ...  \n",
       "533  Tezos Strikes Three Key Partnerships Targeting...  \n",
       "534  How Hackers and Cybercriminals launder Crypto ...  \n",
       "535  US Mayor Wants to Give Every Resident $1000 in...  \n",
       "536  Japanese Exchange Hacked - $97 Million Stolen:...  \n",
       "\n",
       "[537 rows x 3 columns]"
      ]
     },
     "execution_count": 5,
     "metadata": {},
     "output_type": "execute_result"
    }
   ],
   "source": [
    "# Create function to clean tweets (remove @mentions, #, RT, Hyperlinks, and Symbols)\n",
    "def cleanText(tweet):\n",
    "  tweet = re.sub(r'@[A-Za-z0-9]+', '', tweet) \n",
    "  tweet = re.sub(r'#', '', tweet)\n",
    "  tweet = re.sub(r'RT[\\s]+', '', tweet)\n",
    "  tweet = re.sub(r'https?:\\/\\/\\S+', '', tweet)\n",
    "  tweet = re.sub('\\\\t', '', tweet)\n",
    "\n",
    "  return tweet\n",
    "\n",
    "# Clean tweets\n",
    "tweets[\"Tweets\"] = tweets['Tweets'].apply(cleanText)\n",
    "tweets\n"
   ]
  },
  {
   "cell_type": "code",
   "execution_count": 6,
   "metadata": {
    "id": "qHsQVKQe3ca7"
   },
   "outputs": [],
   "source": [
    "# Filter and grab tweets related to Bitcoin, Ethereum\n",
    "btc_tweets = tweets[tweets['Tweets'].str.contains(\"BTC\", \"Bitcoin\")]\n",
    "eth_tweets = tweets[tweets['Tweets'].str.contains('ETH', 'Ethereum')]\n",
    "crypto_tweets = tweets[tweets['Tweets'].str.contains('crypto', 'cryptocurrency')]"
   ]
  },
  {
   "cell_type": "code",
   "execution_count": 7,
   "metadata": {
    "colab": {
     "base_uri": "https://localhost:8080/"
    },
    "id": "2A0Yu1sreZXP",
    "outputId": "36d1d78c-6e37-4056-ee87-969bf689600c"
   },
   "outputs": [
    {
     "name": "stdout",
     "output_type": "stream",
     "text": [
      "Bitcoin has 38 rows of tweets\n",
      "Ethereum has 17 rows of tweets\n",
      "Crypto has 64 rows of tweets\n"
     ]
    }
   ],
   "source": [
    "print(f\"Bitcoin has {btc_tweets.shape[0]} rows of tweets\")\n",
    "print(f\"Ethereum has {eth_tweets.shape[0]} rows of tweets\")\n",
    "print(f\"Crypto has {crypto_tweets.shape[0]} rows of tweets\")\n"
   ]
  },
  {
   "cell_type": "markdown",
   "metadata": {
    "id": "A5br3c84viem"
   },
   "source": [
    "# Sentiment Analysis"
   ]
  },
  {
   "cell_type": "code",
   "execution_count": 8,
   "metadata": {
    "colab": {
     "base_uri": "https://localhost:8080/",
     "height": 204
    },
    "id": "Qio_1U655Aj9",
    "outputId": "11dbd482-c35e-4202-83a3-222af3d0580e"
   },
   "outputs": [
    {
     "data": {
      "text/html": [
       "<div>\n",
       "<style scoped>\n",
       "    .dataframe tbody tr th:only-of-type {\n",
       "        vertical-align: middle;\n",
       "    }\n",
       "\n",
       "    .dataframe tbody tr th {\n",
       "        vertical-align: top;\n",
       "    }\n",
       "\n",
       "    .dataframe thead th {\n",
       "        text-align: right;\n",
       "    }\n",
       "</style>\n",
       "<table border=\"1\" class=\"dataframe\">\n",
       "  <thead>\n",
       "    <tr style=\"text-align: right;\">\n",
       "      <th></th>\n",
       "      <th>Compound</th>\n",
       "      <th>Negative</th>\n",
       "      <th>Neutral</th>\n",
       "      <th>Positive</th>\n",
       "      <th>Tweet</th>\n",
       "      <th>Date</th>\n",
       "    </tr>\n",
       "  </thead>\n",
       "  <tbody>\n",
       "    <tr>\n",
       "      <th>0</th>\n",
       "      <td>0.6986</td>\n",
       "      <td>0.000</td>\n",
       "      <td>0.715</td>\n",
       "      <td>0.285</td>\n",
       "      <td>So BTC is cool but maybe you want something el...</td>\n",
       "      <td>2021-08-31</td>\n",
       "    </tr>\n",
       "    <tr>\n",
       "      <th>1</th>\n",
       "      <td>0.4588</td>\n",
       "      <td>0.000</td>\n",
       "      <td>0.870</td>\n",
       "      <td>0.130</td>\n",
       "      <td>: The August $BTC option expiry is shaping up ...</td>\n",
       "      <td>2021-08-27</td>\n",
       "    </tr>\n",
       "    <tr>\n",
       "      <th>2</th>\n",
       "      <td>0.9855</td>\n",
       "      <td>0.016</td>\n",
       "      <td>0.830</td>\n",
       "      <td>0.153</td>\n",
       "      <td>announced today that its broker-dealer MML In...</td>\n",
       "      <td>2021-08-20</td>\n",
       "    </tr>\n",
       "    <tr>\n",
       "      <th>3</th>\n",
       "      <td>0.9672</td>\n",
       "      <td>0.030</td>\n",
       "      <td>0.845</td>\n",
       "      <td>0.125</td>\n",
       "      <td>As of August the firm’s data center had a mini...</td>\n",
       "      <td>2021-08-31</td>\n",
       "    </tr>\n",
       "    <tr>\n",
       "      <th>4</th>\n",
       "      <td>0.0000</td>\n",
       "      <td>0.000</td>\n",
       "      <td>1.000</td>\n",
       "      <td>0.000</td>\n",
       "      <td>Canaan has sold Genesis 20K bitcoin miners and...</td>\n",
       "      <td>2021-08-31</td>\n",
       "    </tr>\n",
       "  </tbody>\n",
       "</table>\n",
       "</div>"
      ],
      "text/plain": [
       "   Compound  Negative  Neutral  Positive  \\\n",
       "0    0.6986     0.000    0.715     0.285   \n",
       "1    0.4588     0.000    0.870     0.130   \n",
       "2    0.9855     0.016    0.830     0.153   \n",
       "3    0.9672     0.030    0.845     0.125   \n",
       "4    0.0000     0.000    1.000     0.000   \n",
       "\n",
       "                                               Tweet       Date  \n",
       "0  So BTC is cool but maybe you want something el... 2021-08-31  \n",
       "1  : The August $BTC option expiry is shaping up ... 2021-08-27  \n",
       "2   announced today that its broker-dealer MML In... 2021-08-20  \n",
       "3  As of August the firm’s data center had a mini... 2021-08-31  \n",
       "4  Canaan has sold Genesis 20K bitcoin miners and... 2021-08-31  "
      ]
     },
     "execution_count": 8,
     "metadata": {},
     "output_type": "execute_result"
    }
   ],
   "source": [
    "# Create a Bitcoin sentiment scores Dataframe\n",
    "bitcoin_sentiments = []\n",
    "analyzer = SentimentIntensityAnalyzer()\n",
    "\n",
    "for tweets in btc_tweets[\"Tweets\"]:\n",
    "    text = tweets\n",
    "    sentiment = analyzer.polarity_scores(text)\n",
    "    compound = sentiment[\"compound\"]\n",
    "    pos = sentiment[\"pos\"]\n",
    "    neu = sentiment[\"neu\"]\n",
    "    neg = sentiment[\"neg\"]\n",
    "        \n",
    "    bitcoin_sentiments.append({\n",
    "        \"Tweet\": text,\n",
    "        \"Compound\": compound,\n",
    "        \"Positive\": pos,\n",
    "        \"Negative\": neg,\n",
    "        \"Neutral\": neu,\n",
    "    })\n",
    "\n",
    "# Grab dates\n",
    "btc_dates = []\n",
    "for d in btc_tweets[\"timestamp\"]:\n",
    "    date = d\n",
    "\n",
    "    btc_dates.append({\n",
    "        \"Date\":d\n",
    "    })\n",
    "\n",
    "# Create the sentiment and date dataframe\n",
    "btc_dates_df = pd.DataFrame(btc_dates)        \n",
    "\n",
    "btc_sentiment_df = pd.DataFrame(bitcoin_sentiments)\n",
    "cols = [\"Compound\",\"Negative\",\"Neutral\",\"Positive\",\"Tweet\"]\n",
    "btc_sentiment_df = btc_sentiment_df[cols]\n",
    "\n",
    "# Join the date and sentiment dataframe\n",
    "btc_sentiment_df = pd.concat([btc_sentiment_df, btc_dates_df], join='outer', axis=1)\n",
    "\n",
    "# Normalize the 'Date' and remove the time component\n",
    "btc_sentiment_df['Date'] = pd.to_datetime(btc_sentiment_df['Date']).dt.normalize()\n",
    "btc_sentiment_df.head()"
   ]
  },
  {
   "cell_type": "code",
   "execution_count": 9,
   "metadata": {
    "colab": {
     "base_uri": "https://localhost:8080/",
     "height": 204
    },
    "id": "uHekDJkV8vGJ",
    "outputId": "61931b96-36cc-4deb-f9e2-a517988e5422"
   },
   "outputs": [
    {
     "data": {
      "text/html": [
       "<div>\n",
       "<style scoped>\n",
       "    .dataframe tbody tr th:only-of-type {\n",
       "        vertical-align: middle;\n",
       "    }\n",
       "\n",
       "    .dataframe tbody tr th {\n",
       "        vertical-align: top;\n",
       "    }\n",
       "\n",
       "    .dataframe thead th {\n",
       "        text-align: right;\n",
       "    }\n",
       "</style>\n",
       "<table border=\"1\" class=\"dataframe\">\n",
       "  <thead>\n",
       "    <tr style=\"text-align: right;\">\n",
       "      <th></th>\n",
       "      <th>Compound</th>\n",
       "      <th>Negative</th>\n",
       "      <th>Neutral</th>\n",
       "      <th>Positive</th>\n",
       "      <th>Tweet</th>\n",
       "      <th>Date</th>\n",
       "    </tr>\n",
       "  </thead>\n",
       "  <tbody>\n",
       "    <tr>\n",
       "      <th>0</th>\n",
       "      <td>0.6808</td>\n",
       "      <td>0.000</td>\n",
       "      <td>0.732</td>\n",
       "      <td>0.268</td>\n",
       "      <td>Is it time to ETH? There is growing confidence...</td>\n",
       "      <td>2021-08-31</td>\n",
       "    </tr>\n",
       "    <tr>\n",
       "      <th>1</th>\n",
       "      <td>-0.2263</td>\n",
       "      <td>0.193</td>\n",
       "      <td>0.711</td>\n",
       "      <td>0.096</td>\n",
       "      <td>Costly Mistake: Mutant Ape NFT Sold for 17 USD...</td>\n",
       "      <td>2021-08-31</td>\n",
       "    </tr>\n",
       "    <tr>\n",
       "      <th>2</th>\n",
       "      <td>-0.1027</td>\n",
       "      <td>0.085</td>\n",
       "      <td>0.915</td>\n",
       "      <td>0.000</td>\n",
       "      <td>Leading Ethereum Developer Proposes Date for M...</td>\n",
       "      <td>2021-07-07</td>\n",
       "    </tr>\n",
       "    <tr>\n",
       "      <th>3</th>\n",
       "      <td>0.0000</td>\n",
       "      <td>0.000</td>\n",
       "      <td>1.000</td>\n",
       "      <td>0.000</td>\n",
       "      <td>SHIB Becomes ETH’s 3rd Largest Consumer of Gas...</td>\n",
       "      <td>2021-07-07</td>\n",
       "    </tr>\n",
       "    <tr>\n",
       "      <th>4</th>\n",
       "      <td>-0.4215</td>\n",
       "      <td>0.141</td>\n",
       "      <td>0.859</td>\n",
       "      <td>0.000</td>\n",
       "      <td>Ethereum’s Max. Price Lies in the Range of $75...</td>\n",
       "      <td>2021-07-07</td>\n",
       "    </tr>\n",
       "  </tbody>\n",
       "</table>\n",
       "</div>"
      ],
      "text/plain": [
       "   Compound  Negative  Neutral  Positive  \\\n",
       "0    0.6808     0.000    0.732     0.268   \n",
       "1   -0.2263     0.193    0.711     0.096   \n",
       "2   -0.1027     0.085    0.915     0.000   \n",
       "3    0.0000     0.000    1.000     0.000   \n",
       "4   -0.4215     0.141    0.859     0.000   \n",
       "\n",
       "                                               Tweet       Date  \n",
       "0  Is it time to ETH? There is growing confidence... 2021-08-31  \n",
       "1  Costly Mistake: Mutant Ape NFT Sold for 17 USD... 2021-08-31  \n",
       "2  Leading Ethereum Developer Proposes Date for M... 2021-07-07  \n",
       "3  SHIB Becomes ETH’s 3rd Largest Consumer of Gas... 2021-07-07  \n",
       "4  Ethereum’s Max. Price Lies in the Range of $75... 2021-07-07  "
      ]
     },
     "execution_count": 9,
     "metadata": {},
     "output_type": "execute_result"
    }
   ],
   "source": [
    "# Create ETHEREUM sentiment scores Dataframe\n",
    "eth_sentiments = []\n",
    "analyzer = SentimentIntensityAnalyzer()\n",
    "\n",
    "for tweets in eth_tweets[\"Tweets\"]:\n",
    "    text = tweets\n",
    "    sentiment = analyzer.polarity_scores(text)\n",
    "    compound = sentiment[\"compound\"]\n",
    "    pos = sentiment[\"pos\"]\n",
    "    neu = sentiment[\"neu\"]\n",
    "    neg = sentiment[\"neg\"]\n",
    "        \n",
    "    eth_sentiments.append({\n",
    "        \"Tweet\": text,\n",
    "        \"Compound\": compound,\n",
    "        \"Positive\": pos,\n",
    "        \"Negative\": neg,\n",
    "        \"Neutral\": neu,\n",
    "    })\n",
    "\n",
    "# Grab dates\n",
    "dates = []\n",
    "for d in eth_tweets[\"timestamp\"]:\n",
    "    date = d\n",
    "\n",
    "    dates.append({\n",
    "        \"Date\":d\n",
    "    })\n",
    "\n",
    "# Create the sentiment and date dataframe\n",
    "eth_dates = pd.DataFrame(dates)\n",
    "\n",
    "eth_sentiment_df = pd.DataFrame(eth_sentiments)\n",
    "cols = [\"Compound\",\"Negative\",\"Neutral\",\"Positive\",\"Tweet\"]\n",
    "eth_sentiment_df = eth_sentiment_df[cols]\n",
    "\n",
    "# Join the date and sentiment dataframe\n",
    "eth_sentiment_df = pd.concat([eth_sentiment_df, eth_dates], join='outer', axis=1)\n",
    "\n",
    "# Normalize the 'Date' and remove the time component\n",
    "eth_sentiment_df['Date'] = pd.to_datetime(eth_sentiment_df['Date']).dt.normalize()\n",
    "eth_sentiment_df.head()"
   ]
  },
  {
   "cell_type": "markdown",
   "metadata": {
    "id": "9GD4OfWPvt2_"
   },
   "source": [
    "# Correlate Score and Returns"
   ]
  },
  {
   "cell_type": "code",
   "execution_count": 10,
   "metadata": {
    "colab": {
     "base_uri": "https://localhost:8080/",
     "height": 204
    },
    "id": "vvFDZhpVkTmk",
    "outputId": "c50c7d84-0f29-482f-9ceb-8941354b435a"
   },
   "outputs": [
    {
     "data": {
      "text/html": [
       "<div>\n",
       "<style scoped>\n",
       "    .dataframe tbody tr th:only-of-type {\n",
       "        vertical-align: middle;\n",
       "    }\n",
       "\n",
       "    .dataframe tbody tr th {\n",
       "        vertical-align: top;\n",
       "    }\n",
       "\n",
       "    .dataframe thead th {\n",
       "        text-align: right;\n",
       "    }\n",
       "</style>\n",
       "<table border=\"1\" class=\"dataframe\">\n",
       "  <thead>\n",
       "    <tr style=\"text-align: right;\">\n",
       "      <th></th>\n",
       "      <th>Compound</th>\n",
       "      <th>Date</th>\n",
       "    </tr>\n",
       "  </thead>\n",
       "  <tbody>\n",
       "    <tr>\n",
       "      <th>0</th>\n",
       "      <td>0.6986</td>\n",
       "      <td>2021-08-31</td>\n",
       "    </tr>\n",
       "    <tr>\n",
       "      <th>1</th>\n",
       "      <td>0.4588</td>\n",
       "      <td>2021-08-27</td>\n",
       "    </tr>\n",
       "    <tr>\n",
       "      <th>2</th>\n",
       "      <td>0.9855</td>\n",
       "      <td>2021-08-20</td>\n",
       "    </tr>\n",
       "    <tr>\n",
       "      <th>3</th>\n",
       "      <td>0.9672</td>\n",
       "      <td>2021-08-31</td>\n",
       "    </tr>\n",
       "    <tr>\n",
       "      <th>4</th>\n",
       "      <td>0.0000</td>\n",
       "      <td>2021-08-31</td>\n",
       "    </tr>\n",
       "  </tbody>\n",
       "</table>\n",
       "</div>"
      ],
      "text/plain": [
       "   Compound       Date\n",
       "0    0.6986 2021-08-31\n",
       "1    0.4588 2021-08-27\n",
       "2    0.9855 2021-08-20\n",
       "3    0.9672 2021-08-31\n",
       "4    0.0000 2021-08-31"
      ]
     },
     "execution_count": 10,
     "metadata": {},
     "output_type": "execute_result"
    }
   ],
   "source": [
    "# Isolate the score and date of the bitcoin sentiment df\n",
    "btc_score = btc_sentiment_df[['Compound','Date']].copy()\n",
    "btc_score.head()"
   ]
  },
  {
   "cell_type": "code",
   "execution_count": 11,
   "metadata": {
    "colab": {
     "base_uri": "https://localhost:8080/",
     "height": 545
    },
    "id": "TOdOivGTk62p",
    "outputId": "3621eecc-43f5-4c83-95eb-bc4fb01e88e2"
   },
   "outputs": [
    {
     "data": {
      "text/html": [
       "<div>\n",
       "<style scoped>\n",
       "    .dataframe tbody tr th:only-of-type {\n",
       "        vertical-align: middle;\n",
       "    }\n",
       "\n",
       "    .dataframe tbody tr th {\n",
       "        vertical-align: top;\n",
       "    }\n",
       "\n",
       "    .dataframe thead th {\n",
       "        text-align: right;\n",
       "    }\n",
       "</style>\n",
       "<table border=\"1\" class=\"dataframe\">\n",
       "  <thead>\n",
       "    <tr style=\"text-align: right;\">\n",
       "      <th></th>\n",
       "      <th>Compound</th>\n",
       "    </tr>\n",
       "    <tr>\n",
       "      <th>Date</th>\n",
       "      <th></th>\n",
       "    </tr>\n",
       "  </thead>\n",
       "  <tbody>\n",
       "    <tr>\n",
       "      <th>2020-01-24</th>\n",
       "      <td>0.3818</td>\n",
       "    </tr>\n",
       "    <tr>\n",
       "      <th>2021-02-05</th>\n",
       "      <td>0.0000</td>\n",
       "    </tr>\n",
       "    <tr>\n",
       "      <th>2021-02-16</th>\n",
       "      <td>0.0000</td>\n",
       "    </tr>\n",
       "    <tr>\n",
       "      <th>2021-02-25</th>\n",
       "      <td>0.0000</td>\n",
       "    </tr>\n",
       "    <tr>\n",
       "      <th>2021-03-01</th>\n",
       "      <td>0.0000</td>\n",
       "    </tr>\n",
       "  </tbody>\n",
       "</table>\n",
       "</div>"
      ],
      "text/plain": [
       "            Compound\n",
       "Date                \n",
       "2020-01-24    0.3818\n",
       "2021-02-05    0.0000\n",
       "2021-02-16    0.0000\n",
       "2021-02-25    0.0000\n",
       "2021-03-01    0.0000"
      ]
     },
     "execution_count": 11,
     "metadata": {},
     "output_type": "execute_result"
    }
   ],
   "source": [
    "# Aggregate daily sentiment score\n",
    "btc_daily_score = btc_score.groupby([\"Date\"]).sum()\n",
    "btc_daily_score.head()"
   ]
  },
  {
   "cell_type": "code",
   "execution_count": 12,
   "metadata": {
    "colab": {
     "base_uri": "https://localhost:8080/",
     "height": 235
    },
    "id": "iG5sdqDuml15",
    "outputId": "4343bae9-90a5-4133-9f1f-b502f7d07efb"
   },
   "outputs": [
    {
     "data": {
      "text/html": [
       "<div>\n",
       "<style scoped>\n",
       "    .dataframe tbody tr th:only-of-type {\n",
       "        vertical-align: middle;\n",
       "    }\n",
       "\n",
       "    .dataframe tbody tr th {\n",
       "        vertical-align: top;\n",
       "    }\n",
       "\n",
       "    .dataframe thead th {\n",
       "        text-align: right;\n",
       "    }\n",
       "</style>\n",
       "<table border=\"1\" class=\"dataframe\">\n",
       "  <thead>\n",
       "    <tr style=\"text-align: right;\">\n",
       "      <th></th>\n",
       "      <th>Close</th>\n",
       "      <th>Returns</th>\n",
       "    </tr>\n",
       "    <tr>\n",
       "      <th>Date</th>\n",
       "      <th></th>\n",
       "      <th></th>\n",
       "    </tr>\n",
       "  </thead>\n",
       "  <tbody>\n",
       "    <tr>\n",
       "      <th>2020-08-31</th>\n",
       "      <td>11680.820313</td>\n",
       "      <td>NaN</td>\n",
       "    </tr>\n",
       "    <tr>\n",
       "      <th>2020-09-01</th>\n",
       "      <td>11970.478516</td>\n",
       "      <td>0.024798</td>\n",
       "    </tr>\n",
       "    <tr>\n",
       "      <th>2020-09-02</th>\n",
       "      <td>11414.034180</td>\n",
       "      <td>-0.046485</td>\n",
       "    </tr>\n",
       "    <tr>\n",
       "      <th>2020-09-03</th>\n",
       "      <td>10245.296875</td>\n",
       "      <td>-0.102395</td>\n",
       "    </tr>\n",
       "    <tr>\n",
       "      <th>2020-09-04</th>\n",
       "      <td>10511.813477</td>\n",
       "      <td>0.026014</td>\n",
       "    </tr>\n",
       "  </tbody>\n",
       "</table>\n",
       "</div>"
      ],
      "text/plain": [
       "                   Close   Returns\n",
       "Date                              \n",
       "2020-08-31  11680.820313       NaN\n",
       "2020-09-01  11970.478516  0.024798\n",
       "2020-09-02  11414.034180 -0.046485\n",
       "2020-09-03  10245.296875 -0.102395\n",
       "2020-09-04  10511.813477  0.026014"
      ]
     },
     "execution_count": 12,
     "metadata": {},
     "output_type": "execute_result"
    }
   ],
   "source": [
    "# Calculate Bitcoin daily returns\n",
    "btcusd['Returns'] = btcusd['Close']/btcusd['Close'].shift(1) - 1\n",
    "btcusd.head()"
   ]
  },
  {
   "cell_type": "code",
   "execution_count": 13,
   "metadata": {
    "colab": {
     "base_uri": "https://localhost:8080/",
     "height": 235
    },
    "id": "-PJHlMvVnlmt",
    "outputId": "d1bea066-d1ae-4ec3-bc85-eb4b940cb694"
   },
   "outputs": [
    {
     "data": {
      "text/html": [
       "<div>\n",
       "<style scoped>\n",
       "    .dataframe tbody tr th:only-of-type {\n",
       "        vertical-align: middle;\n",
       "    }\n",
       "\n",
       "    .dataframe tbody tr th {\n",
       "        vertical-align: top;\n",
       "    }\n",
       "\n",
       "    .dataframe thead th {\n",
       "        text-align: right;\n",
       "    }\n",
       "</style>\n",
       "<table border=\"1\" class=\"dataframe\">\n",
       "  <thead>\n",
       "    <tr style=\"text-align: right;\">\n",
       "      <th></th>\n",
       "      <th>Compound</th>\n",
       "      <th>Previous Score</th>\n",
       "    </tr>\n",
       "    <tr>\n",
       "      <th>Date</th>\n",
       "      <th></th>\n",
       "      <th></th>\n",
       "    </tr>\n",
       "  </thead>\n",
       "  <tbody>\n",
       "    <tr>\n",
       "      <th>2020-01-24</th>\n",
       "      <td>0.3818</td>\n",
       "      <td>NaN</td>\n",
       "    </tr>\n",
       "    <tr>\n",
       "      <th>2021-02-05</th>\n",
       "      <td>0.0000</td>\n",
       "      <td>0.3818</td>\n",
       "    </tr>\n",
       "    <tr>\n",
       "      <th>2021-02-16</th>\n",
       "      <td>0.0000</td>\n",
       "      <td>0.0000</td>\n",
       "    </tr>\n",
       "    <tr>\n",
       "      <th>2021-02-25</th>\n",
       "      <td>0.0000</td>\n",
       "      <td>0.0000</td>\n",
       "    </tr>\n",
       "    <tr>\n",
       "      <th>2021-03-01</th>\n",
       "      <td>0.0000</td>\n",
       "      <td>0.0000</td>\n",
       "    </tr>\n",
       "  </tbody>\n",
       "</table>\n",
       "</div>"
      ],
      "text/plain": [
       "            Compound  Previous Score\n",
       "Date                                \n",
       "2020-01-24    0.3818             NaN\n",
       "2021-02-05    0.0000          0.3818\n",
       "2021-02-16    0.0000          0.0000\n",
       "2021-02-25    0.0000          0.0000\n",
       "2021-03-01    0.0000          0.0000"
      ]
     },
     "execution_count": 13,
     "metadata": {},
     "output_type": "execute_result"
    }
   ],
   "source": [
    "# Check relationship between sentiment score and returns\n",
    "# Lag the sentiment score and shift the score down 1\n",
    "btc_daily_score['Previous Score'] = btc_daily_score.shift(1)\n",
    "btc_daily_score.head()"
   ]
  },
  {
   "cell_type": "code",
   "execution_count": 14,
   "metadata": {
    "id": "o57xsevUonBE"
   },
   "outputs": [],
   "source": [
    "# Merge the daily returns to the lagged sentiment scores\n",
    "btcreturnsScore = pd.merge( btc_daily_score[['Previous Score']], btcusd[['Returns']], left_index=True, right_index=True, how='left')"
   ]
  },
  {
   "cell_type": "code",
   "execution_count": 15,
   "metadata": {
    "colab": {
     "base_uri": "https://localhost:8080/",
     "height": 545
    },
    "id": "0OdQFNxmsWd6",
    "outputId": "8ecf0de7-fea8-41c1-902c-23c4250a8ab4"
   },
   "outputs": [],
   "source": [
    "# Clean the data\n",
    "btcreturnsScore[\"Returns shift\"] = btcreturnsScore[\"Returns\"].shift(3)\n",
    "btcreturnsScore.fillna(0, inplace=True)"
   ]
  },
  {
   "cell_type": "code",
   "execution_count": 16,
   "metadata": {
    "colab": {
     "base_uri": "https://localhost:8080/"
    },
    "id": "ERWXaEZqqPL1",
    "outputId": "264320e3-5305-43bb-e3bb-8d309bd5e305"
   },
   "outputs": [
    {
     "data": {
      "text/plain": [
       "-0.21870085377471477"
      ]
     },
     "execution_count": 16,
     "metadata": {},
     "output_type": "execute_result"
    }
   ],
   "source": [
    "# Calculate correlation\n",
    "btcreturnsScore['Returns shift'].corr(btcreturnsScore['Previous Score'])"
   ]
  },
  {
   "cell_type": "markdown",
   "metadata": {
    "id": "TqGLClpI21cj"
   },
   "source": [
    "# Scale Sentiment Score"
   ]
  },
  {
   "cell_type": "code",
   "execution_count": 17,
   "metadata": {},
   "outputs": [
    {
     "data": {
      "text/plain": [
       "0    84\n",
       "1    38\n",
       "2    44\n",
       "3    50\n",
       "4    28\n",
       "Name: Compound, dtype: int64"
      ]
     },
     "execution_count": 17,
     "metadata": {},
     "output_type": "execute_result"
    }
   ],
   "source": [
    "eth_sentiment_scaled = eth_sentiment_df[\"Compound\"].apply(lambda x: int(((x*100)+100)/2))\n",
    "eth_sentiment_scaled.head()"
   ]
  },
  {
   "cell_type": "code",
   "execution_count": 18,
   "metadata": {
    "colab": {
     "base_uri": "https://localhost:8080/",
     "height": 204
    },
    "id": "Bg2iAIO33bQq",
    "outputId": "5047f8e1-fa6e-4a8c-8ea5-2b9a9defb937"
   },
   "outputs": [
    {
     "data": {
      "text/plain": [
       "0    84\n",
       "1    72\n",
       "2    99\n",
       "3    98\n",
       "4    50\n",
       "Name: Compound, dtype: int64"
      ]
     },
     "execution_count": 18,
     "metadata": {},
     "output_type": "execute_result"
    }
   ],
   "source": [
    "# Scale the Compound Score to be between 0 and 100\n",
    "btc_sentiment_scaled = btc_sentiment_df[\"Compound\"].apply(lambda x: int(((x*100)+100)/2))\n",
    "btc_sentiment_scaled.head()"
   ]
  },
  {
   "cell_type": "code",
   "execution_count": 19,
   "metadata": {
    "id": "78RQuMZfNpXv"
   },
   "outputs": [],
   "source": [
    "# Save btc_sentiment_scaled and eth_sentiment_scaled to csv\n",
    "btc_sentiment_scaled.to_csv(\"../Data/btc_sentiment.csv\")\n",
    "eth_sentiment_scaled.to_csv(\"../Data/eth_sentiment.csv\")"
   ]
  }
 ],
 "metadata": {
  "colab": {
   "collapsed_sections": [],
   "name": "Project_2_sentimentAnalysis.ipynb",
   "provenance": []
  },
  "kernelspec": {
   "display_name": "Python 3",
   "language": "python",
   "name": "python3"
  },
  "language_info": {
   "codemirror_mode": {
    "name": "ipython",
    "version": 3
   },
   "file_extension": ".py",
   "mimetype": "text/x-python",
   "name": "python",
   "nbconvert_exporter": "python",
   "pygments_lexer": "ipython3",
   "version": "3.7.10"
  }
 },
 "nbformat": 4,
 "nbformat_minor": 4
}
